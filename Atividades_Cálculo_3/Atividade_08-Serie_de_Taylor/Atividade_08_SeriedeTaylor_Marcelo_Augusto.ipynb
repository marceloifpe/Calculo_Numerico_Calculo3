{
  "nbformat": 4,
  "nbformat_minor": 0,
  "metadata": {
    "colab": {
      "provenance": []
    },
    "kernelspec": {
      "name": "python3",
      "display_name": "Python 3"
    },
    "language_info": {
      "name": "python"
    }
  },
  "cells": [
    {
      "cell_type": "code",
      "execution_count": 1,
      "metadata": {
        "id": "PU60R5CJKvqh"
      },
      "outputs": [],
      "source": [
        "# Disciplina: Cálculo 3.\n",
        "# Professor: Marcos Maia.\n",
        "# Desenvolvido por: Marcelo Augusto de Barros Araújo.\n",
        "# Curso: Engenharia da Computação.\n",
        "# Instituição: UABJ.\n",
        "# Data: 16/07/25."
      ]
    },
    {
      "cell_type": "code",
      "source": [
        "import math"
      ],
      "metadata": {
        "id": "waNfZ2rULHXc"
      },
      "execution_count": 2,
      "outputs": []
    },
    {
      "cell_type": "code",
      "source": [
        "def taylor_ln(x, max_error):\n",
        "    \"\"\"\n",
        "    Calcula ln(1+x) usando a série de Taylor com um erro máximo especificado.\n",
        "\n",
        "    Args:\n",
        "      x: O valor de x para calcular ln(1+x).\n",
        "      max_error: O erro máximo permitido.\n",
        "\n",
        "    Returns:\n",
        "      Uma tupla contendo o resultado da série, o número de termos e o erro.\n",
        "    \"\"\"\n",
        "    # A série de Taylor para ln(1+x) converge apenas para |x| < 1.\n",
        "    if abs(x) >= 1:\n",
        "        return float('inf'), 0, float('inf')\n",
        "\n",
        "    resultado = 0\n",
        "    n = 1\n",
        "    while True:\n",
        "        termo_atual = ((-1)**(n+1)) * (x**n) / n\n",
        "        # O erro pode ser estimado pelo próximo termo da série\n",
        "        erro_estimado = abs(((-1)**(n+2)) * (x**(n+1)) / (n+1))\n",
        "        resultado += termo_atual\n",
        "        if erro_estimado < max_error:\n",
        "            break\n",
        "        n += 1\n",
        "    return resultado, n, erro_estimado\n",
        "\n",
        "# --- 1. Cálculo de ln(1.5) ---\n",
        "# Para ln(1.5), temos 1+x = 1.5, então x = 0.5\n",
        "x_1_5 = 0.5\n",
        "erro_desejado = 10**(-4)\n",
        "\n",
        "ln_1_5_taylor, termos_necessarios, erro_final = taylor_ln(x_1_5, erro_desejado)\n",
        "ln_1_5_math = math.log(1.5)\n",
        "\n",
        "print(\"--- Cálculo de ln(1.5) ---\")\n",
        "print(f\"Valor de ln(1.5) com a série de Taylor: {ln_1_5_taylor}\")\n",
        "print(f\"Valor de ln(1.5) com a biblioteca math: {ln_1_5_math}\")\n",
        "print(f\"Número de termos necessários: {termos_necessarios}\")\n",
        "print(f\"Erro estimado (valor do primeiro termo descartado): {erro_final}\")\n",
        "print(f\"Diferença real para o valor da biblioteca math: {abs(ln_1_5_taylor - ln_1_5_math)}\")\n",
        "\n",
        "print(\"\\n\" + \"=\"*50 + \"\\n\")\n",
        "\n",
        "# --- 2. Tentativa de cálculo de ln(2.71828) ---\n",
        "# Para ln(2.71828), temos 1+x = 2.71828, então x = 1.71828\n",
        "x_2_71828 = 1.71828\n",
        "\n",
        "# Como x > 1, a série diverge. Vamos calcular alguns termos para observar.\n",
        "resultado_divergente = 0\n",
        "print(\"--- Tentativa de cálculo de ln(2.71828) ---\")\n",
        "print(\"Observando os primeiros 10 termos da série para x = 1.71828:\")\n",
        "for n in range(1, 11):\n",
        "    termo = ((-1)**(n+1)) * (x_2_71828**n) / n\n",
        "    resultado_divergente += termo\n",
        "    print(f\"Termo {n}: {termo:.4f}, Soma parcial: {resultado_divergente:.4f}\")\n",
        "\n",
        "ln_2_71828_math = math.log(2.71828)\n",
        "print(f\"\\nValor real de ln(2.71828) com a biblioteca math (próximo a 1): {ln_2_71828_math}\")\n",
        "#Explicação: Para calcular ln(1.5), usamos a série de Taylor para ln(1+x) com x = 0.5.\n",
        "# Como o valor está dentro do intervalo de convergência da série ( −1<x≤1 ), a aproximação funciona muito bem nesse caso.\n",
        "# Foram necessários 9 termos da série para alcançar um erro menor que  10−4 que foi pedido.\n",
        "# O resultado obtido ( 0.4055 ) foi muito próximo do valor real ( 0.4054 ), validando a aplicação do método.\n",
        "# Para calcular ln(2.71828), seria necessário usar x = 1.71828. O problema é que este valor de x está fora do intervalo de convergência da série.\n",
        "# Consequência gerada: A série se torna divergente. Em vez de a soma dos termos se aproximar do valor real (que é  ≈1 ), ela oscila e cresce indefinidamente,\n",
        "# gerando um resultado sem sentido.\n",
        "# Conclusão: A série de Taylor para ln(1+x) centrada em zero não pode ser usada para encontrar o logaritmo de números que exijam  |x|>1 .\n"
      ],
      "metadata": {
        "colab": {
          "base_uri": "https://localhost:8080/"
        },
        "id": "6A3V6leDLRqq",
        "outputId": "71ea1292-2f05-4edc-9a84-4474c6895c4f"
      },
      "execution_count": 3,
      "outputs": [
        {
          "output_type": "stream",
          "name": "stdout",
          "text": [
            "--- Cálculo de ln(1.5) ---\n",
            "Valor de ln(1.5) com a série de Taylor: 0.4055323040674603\n",
            "Valor de ln(1.5) com a biblioteca math: 0.4054651081081644\n",
            "Número de termos necessários: 9\n",
            "Erro estimado (valor do primeiro termo descartado): 9.765625e-05\n",
            "Diferença real para o valor da biblioteca math: 6.719595929594036e-05\n",
            "\n",
            "==================================================\n",
            "\n",
            "--- Tentativa de cálculo de ln(2.71828) ---\n",
            "Observando os primeiros 10 termos da série para x = 1.71828:\n",
            "Termo 1: 1.7183, Soma parcial: 1.7183\n",
            "Termo 2: -1.4762, Soma parcial: 0.2420\n",
            "Termo 3: 1.6911, Soma parcial: 1.9331\n",
            "Termo 4: -2.1793, Soma parcial: -0.2462\n",
            "Termo 5: 2.9957, Soma parcial: 2.7495\n",
            "Termo 6: -4.2896, Soma parcial: -1.5400\n",
            "Termo 7: 6.3177, Soma parcial: 4.7777\n",
            "Termo 8: -9.4986, Soma parcial: -4.7210\n",
            "Termo 9: 14.5078, Soma parcial: 9.7869\n",
            "Termo 10: -22.4357, Soma parcial: -12.6488\n",
            "\n",
            "Valor real de ln(2.71828) com a biblioteca math (próximo a 1): 0.999999327347282\n"
          ]
        }
      ]
    }
  ]
}