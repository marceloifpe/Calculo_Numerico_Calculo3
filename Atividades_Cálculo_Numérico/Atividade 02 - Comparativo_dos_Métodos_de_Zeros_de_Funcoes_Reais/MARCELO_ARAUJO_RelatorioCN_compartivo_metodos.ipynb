{
  "nbformat": 4,
  "nbformat_minor": 0,
  "metadata": {
    "colab": {
      "provenance": []
    },
    "kernelspec": {
      "name": "python3",
      "display_name": "Python 3"
    },
    "language_info": {
      "name": "python"
    }
  },
  "cells": [
    {
      "cell_type": "markdown",
      "source": [
        "# Atividade 02 - Zeros de Funções Reais"
      ],
      "metadata": {
        "id": "ZYw--78IRibr"
      }
    },
    {
      "cell_type": "markdown",
      "source": [
        "Nome completo: Marcelo Augusto de Barros Araújo.\n",
        "\n",
        "Data: 23/04/25."
      ],
      "metadata": {
        "id": "hhKYRVMpRwbL"
      }
    },
    {
      "cell_type": "markdown",
      "source": [
        "# Introdução\n",
        "\n",
        "O presente trabalho apresenta o relatório da implementação computacional de diferentes técnicas numéricas estudadas na disciplina de Cálculo Numérico, lecionada às turmas de engenharia da Unidade Acadêmica de Belo Jardim. Utiliza-se a linguagem Python para a implementação dos algoritmos e considera-se a função\n",
        "\n",
        "$$\n",
        "f(x) = x \\cdot e^{(-x - 1)} - 2 \\cdot e^{(-3)}\n",
        "$$\n"
      ],
      "metadata": {
        "id": "-DjK2WYoSDuO"
      }
    },
    {
      "cell_type": "code",
      "source": [
        "import math as m\n",
        "import numpy as np\n",
        "\n",
        "# defina aqui a sua função\n",
        "def f(x):\n",
        "  return x*np.exp(-x-1)-2*np.exp(-3)"
      ],
      "metadata": {
        "id": "C9DJnq1qUzk2"
      },
      "execution_count": null,
      "outputs": []
    },
    {
      "cell_type": "markdown",
      "source": [
        "# Estudo do sinal da função\n",
        "\n",
        "A função $f(x) = x \\cdot e^{(-x - 1)} - 2 \\cdot e^{(-3)}$ possui pelo menos um zero no intervalo $(a,b)$ uma vez que $f(a) = ≈−0.14023$, $f(b) = ≈+0.02156$, de modo que a função troca de sinal no intervalo considerado.\n",
        "\n",
        "Calculando-se a derivada da função obtem-se\n",
        "\n",
        "$$f'(x) = (1 - x)\\,e^{-x-1}$$\n",
        "\n",
        "Verifica-se que $f'(x)>0 \\, (ou <0)$ para todo $x\\in(a,b)$. Portanto, como a derivada não troca de sinal em $(a,b)$, existe um único zero para $f(x)$ neste intervalo.\n",
        "\n",
        "O intervalo $(a,b)$ será utilizada para todos os métodos numéricos a serem implementados, a fim de comparação de eficiência entre os métodos.\n",
        "\n"
      ],
      "metadata": {
        "id": "82v7U0DaTurj"
      }
    },
    {
      "cell_type": "code",
      "source": [
        "#Plote o gráfico da função caso ache conveniente para a análise do sinal da função.\n",
        "import matplotlib.pyplot as plt\n",
        "import numpy as np\n",
        "\n",
        "x = np.linspace(-0.1, 0.6, 100)\n",
        "y = f(x)\n",
        "\n",
        "plt.plot(x,y)\n",
        "plt.show()"
      ],
      "metadata": {
        "id": "wNmKxwgdY8kg",
        "colab": {
          "base_uri": "https://localhost:8080/",
          "height": 430
        },
        "outputId": "95d6f157-4f6b-440d-c2d2-112b31609689"
      },
      "execution_count": null,
      "outputs": [
        {
          "output_type": "display_data",
          "data": {
            "text/plain": [
              "<Figure size 640x480 with 1 Axes>"
            ],
            "image/png": "[encoded data removed]"
          },
          "metadata": {}
        }
      ]
    },
    {
      "cell_type": "code",
      "source": [
        "# defina o intervalo\n",
        "a0 = -0.1\n",
        "b0 = 0.6"
      ],
      "metadata": {
        "id": "CguI5wM7Te7W"
      },
      "execution_count": null,
      "outputs": []
    },
    {
      "cell_type": "markdown",
      "source": [
        "Para todos os os métodos a serem implementados e comparados, será considerada a precisão $ɛ=0.00009$ de quatro casas decimais, como segue:"
      ],
      "metadata": {
        "id": "Inc5m4uLgdK-"
      }
    },
    {
      "cell_type": "code",
      "source": [
        "# precisão\n",
        "e = 0.00009"
      ],
      "metadata": {
        "id": "guVOKg3hgorm"
      },
      "execution_count": null,
      "outputs": []
    },
    {
      "cell_type": "markdown",
      "source": [
        "# Método da Bissecção  \n",
        "\n",
        "\"\"\"  \n",
        "O método da bissecção é utilizado para encontrar raízes de uma função contínua em um intervalo [a, b] onde a função troca de sinal (f(a) e f(b) têm sinais opostos).  \n",
        "O algoritmo segue os passos:  \n",
        "1. Calcula o ponto médio M = (a + b)/2.  \n",
        "2. Verifica em qual subintervalo ([a, M] ou [M, b]) a função muda de sinal.  \n",
        "3. Atualiza o intervalo substituindo a ou b por M, mantendo a raiz dentro do novo intervalo.  \n",
        "4. Repete os passos até que a largura do intervalo (b - a) seja menor que a precisão ε desejada.  \n",
        "5. Retorna o ponto médio final como aproximação da raiz e o número de iterações realizadas.  \n",
        "\"\"\"  "
      ],
      "metadata": {
        "id": "-XsYaI-ef7ec"
      }
    },
    {
      "cell_type": "code",
      "source": [
        "# Implemente aqui o algoritmo do método da bissecção usando a sua função, o intervalo (a,b) e a precisão considera.\n",
        "# Obtenha sempre o número de iterações necessárias à convergência a fim de comparação entre os métodos.\n",
        "# k contabiliza as interações\n",
        "a = a0\n",
        "b = b0\n",
        "\n",
        "k = 0\n",
        "while b-a > e:\n",
        "  M = (a+b)/2\n",
        "\n",
        "  if f(a) * f(M) < 0:\n",
        "    b = M\n",
        "  else:\n",
        "    a = M\n",
        "\n",
        "  k = k+1\n",
        "\n",
        "\n",
        "\n",
        "print('A solução encontrada foi: ', M)\n",
        "print('O número de iterações foi: ', k)\n"
      ],
      "metadata": {
        "id": "b5eHsWRggKzX",
        "colab": {
          "base_uri": "https://localhost:8080/"
        },
        "outputId": "f05669fa-13a4-4802-f0f3-5e38da53d3ce"
      },
      "execution_count": null,
      "outputs": [
        {
          "output_type": "stream",
          "name": "stdout",
          "text": [
            "A solução encontrada foi:  0.40645751953125\n",
            "O número de iterações foi:  13\n"
          ]
        }
      ]
    },
    {
      "cell_type": "markdown",
      "source": [
        "# Método da Posição Falsa\n",
        "\"\"\"\n",
        "O método da posição falsa é um algoritmo numérico para encontrar raízes de funções contínuas que combina:\n",
        "- A garantia de convergência do método da bisseção\n",
        "- A velocidade da interpolação linear\n",
        "\n",
        "Funcionamento básico:\n",
        "1. Requer uma função contínua f(x) com troca de sinal no intervalo [a,b]\n",
        "2. Em cada iteração, calcula uma nova estimativa x* usando interpolação linear\n",
        "3. Atualiza o intervalo mantendo o enquadramento da raiz\n",
        "4. Repete até atingir a precisão desejada\n",
        "\n"
      ],
      "metadata": {
        "id": "x_AEpJoxhTMo"
      }
    },
    {
      "cell_type": "code",
      "source": [
        "# Implemente aqui o algoritmo do método da posição usando a sua função, o intervalo (a,b) incial e a precisão considera.\n",
        "# Obtenha sempre o número de iterações necessárias à convergência a fim de comparação entre os métodos.\n",
        "a = a0\n",
        "b = b0\n",
        "\n",
        "it_max = 100 #máximo de iterações\n",
        "\n",
        "for k in range(1, it_max +1):\n",
        "  M = (a*f(b) - b*f(a))/ (f(b) - f(a)) #calcula média ponderada\n",
        "\n",
        "  if f(a)*f(M) < 0:\n",
        "    b= M\n",
        "  else:\n",
        "    a = M\n",
        "\n",
        "  #critério de parada\n",
        "  if abs(f(M))<e:\n",
        "   break\n",
        "\n",
        "print(\"A solução encontrada foi: \", M) #imprime a raiz\n",
        "print(\"O número de iterações foi: \",k) #imprime iterações\n",
        "\n",
        "# m = (a+b)/2 #ponto médio\n",
        "\n",
        "# while abs(f(m) > e): #enquanto o intervalo for maior que a precisão\n",
        "#   m = (a*f(b) - b*f(a))/ (f(b) - f(a)) #calcula o ponto médio\n",
        "#   if f(a)*f(m) < 0: #se o produto for menor que 0, a raiz está no intervalo [a,m]\n",
        "#     b = m #atualiza o intervalo\n",
        "#   else: #se não, a raiz está no intervalo [m,b]\n",
        "#     a = m #atualiza o intervalo\n",
        "#   k = k + 1 #atualiza o número de iterações\n",
        "\n",
        "# print(\"A raiz encontrada foi: \", m) #imprime a raiz\n",
        "# print(\"O número de iterações foi: \",k) #imprime o número de iterações"
      ],
      "metadata": {
        "id": "BJzuvZ0Shiwr",
        "colab": {
          "base_uri": "https://localhost:8080/"
        },
        "outputId": "93d4ba2d-f52e-4a88-d5f8-9a43ea5b657d"
      },
      "execution_count": null,
      "outputs": [
        {
          "output_type": "stream",
          "name": "stdout",
          "text": [
            "A solução encontrada foi:  0.4069712090211097\n",
            "O número de iterações foi:  8\n"
          ]
        }
      ]
    },
    {
      "cell_type": "markdown",
      "source": [
        "# Método do Ponto Fixo  \n",
        "\n",
        "O método do ponto fixo consiste em obter uma função de iteração $\\phi(x)$ a partir da equação $f(x) = 0$.  \n",
        "\n",
        "Supondo que a função de iteração é convergente, usa-se uma condição inicial $x_0 \\in (a,b)$ e executa a rotina  \n",
        "$$x_{k+1} = \\phi(x_k)$$  \n",
        "até que $|f(x_k)| < \\epsilon$, onde $\\epsilon$ é a precisão indicada.  \n",
        "\n",
        "Para verificar se a função de iteração é convergente, resolvemos a inequação modular  \n",
        "$$|\\phi'(x)| < 1$$  \n",
        "e verificamos a intersecção do intervalo obtido nesta inequação com o intervalo inicial $(a,b)$. A condição inicial $x_0$ deve estar nesta intersecção.  \n",
        "\n",
        "---\n",
        "\n",
        "### Para a função dada $f(x) = x e^{-x-1} - 2e^{-3}$, obtemos **duas funções de iteração**:\n",
        "\n",
        "#### **Primeira função de iteração ($\\phi_1$):**  \n",
        "Reorganizando $x e^{-x-1} = 2e^{-3}$ para isolar $x$:  \n",
        "$$\n",
        "\\phi_1(x) = 2e^{x - 2}\n",
        "$$  \n",
        "\n",
        "**Derivada:**  \n",
        "$$\n",
        "\\phi_1'(x) = 2e^{x - 2}\n",
        "$$  \n",
        "\n",
        "**Condição de convergência $|\\phi_1'(x)| < 1$:**  \n",
        "$$\n",
        "2e^{x - 2} < 1 \\quad \\Rightarrow \\quad e^{x - 2} < \\frac{1}{2} \\quad \\Rightarrow \\quad x < 2 - \\ln(2) \\approx 1.3069\n",
        "$$  \n",
        "\n",
        "**Intervalo de convergência:**  \n",
        "$$\n",
        "x \\in (-\\infty, 2 - \\ln 2) \\approx (-\\infty, 1.3069)\n",
        "$$  \n",
        "\n",
        "---\n",
        "\n",
        "#### **Segunda função de iteração ($\\phi_2$):**  \n",
        "Reorganizando $x e^{-x-1} = 2e^{-3}$ aplicando logaritmo:  \n",
        "$$\n",
        "\\phi_2(x) = 2 + \\ln\\left(\\frac{x}{2}\\right)\n",
        "$$  \n",
        "\n",
        "**Derivada:**  \n",
        "$$\n",
        "\\phi_2'(x) = \\frac{1}{x}\n",
        "$$  \n",
        "\n",
        "**Condição de convergência $|\\phi_2'(x)| < 1$:**  \n",
        "$$\n",
        "\\left|\\frac{1}{x}\\right| < 1 \\quad \\Rightarrow \\quad |x| > 1\n",
        "$$  \n",
        "\n",
        "**Intervalo de convergência (considerando $x > 0$):**  \n",
        "$$\n",
        "x \\in (1, +\\infty)\n",
        "$$  \n",
        "\n",
        "---\n",
        "\n",
        "### Conclusão sobre convergência:  \n",
        "1. **Para $\\phi_1(x)$:**  \n",
        "   - O intervalo de convergência é $(-\\infty, 1.3069)$.  \n",
        "   - A raiz de $f(x) = 0$ está em $x \\approx 0.406$, **dentro do intervalo de convergência**.  \n",
        "   - **Portanto, $\\phi_1(x)$ é convergente** para essa raiz se $x_0 \\in (-\\infty, 1.3069)$.  \n",
        "\n",
        "2. **Para $\\phi_2(x)$:**  \n",
        "   - O intervalo de convergência é $(1, +\\infty)$.  \n",
        "   - A raiz $x \\approx 0.406$ está **fora do intervalo de convergência**.  \n",
        "   - **Portanto, $\\phi_2(x)$ não é convergente** para essa raiz.  \n",
        "\n",
        "---\n",
        "\n",
        "### Observação:  \n",
        "A função de iteração **$\\phi_1(x) = 2e^{x-2}$ é convergente** e foi o utilizado o $phi$ escolhido para o algoritmo implementado abaixo."
      ],
      "metadata": {
        "id": "KrwCMIsFhn7Y"
      }
    },
    {
      "cell_type": "code",
      "source": [
        "# Implemente aqui o algoritmo do método do ponto fixo usando a sua função,\n",
        "# tomando uma condição inicial no intervalo (a,b) inicial, use a média do intervalo, e a precisão considera.\n",
        "# Obtenha sempre o número de iterações necessárias à convergência a fim de comparação entre os métodos.\n",
        "import numpy as np\n",
        "\n",
        "def phi(x):\n",
        "  return 2*(np.exp(x-2))\n",
        "\n",
        "x0 = (a0+b0)/2 #ponto inicial do método\n",
        "x_k = x0\n",
        "\n",
        "it_max_ponto_fixo = 100 #máximo de iterações\n",
        "\n",
        "for k in range(1, it_max_ponto_fixo+1):\n",
        "  print(x_k)\n",
        "  x_k = phi(x_k)\n",
        "\n",
        "  if abs(f(x_k))< e:\n",
        "    break\n",
        "\n",
        "print(\"A solução encontrada foi: \", x_k) #imprime a raiz\n",
        "print(\"O número de iterações foi: \",k) #imprime iterações\n",
        "\n"
      ],
      "metadata": {
        "id": "PdXlM16x9jDw",
        "colab": {
          "base_uri": "https://localhost:8080/"
        },
        "outputId": "debec558-8c36-4224-a4c4-da04675426ae"
      },
      "execution_count": null,
      "outputs": [
        {
          "output_type": "stream",
          "name": "stdout",
          "text": [
            "0.25\n",
            "0.3475478869008903\n",
            "0.3831591148739428\n",
            "0.39704974472663346\n",
            "0.4026034990371789\n",
            "0.40484568045456765\n",
            "0.4057544363332435\n",
            "A solução encontrada foi:  0.4061233356568871\n",
            "O número de iterações foi:  7\n"
          ]
        }
      ]
    },
    {
      "cell_type": "markdown",
      "source": [
        "# Método de Newton  \n",
        "\n",
        "O método de Newton é um caso especial do método do ponto fixo que consiste em usar a função de iteração  \n",
        "$$\n",
        "\\phi(x_k) = x_k - \\dfrac{f(x_k)}{f'(x_k)}  \n",
        "$$  \n",
        "\n",
        "Este método é convergente se $f'(x) \\neq 0$ e $f''(x)$ existir e for contínua em $(a,b)$. Verificando, observamos que:  \n",
        "\n",
        "**Primeira derivada:**  \n",
        "Para $f(x) = x e^{-x-1} - 2e^{-3}$, aplicamos a regra do produto:  \n",
        "$$\n",
        "f'(x) = e^{-x-1}(1 - x)  \n",
        "$$  \n",
        "\n",
        "**Segunda derivada:**  \n",
        "Derivando $f'(x)$ novamente:  \n",
        "$$\n",
        "f''(x) = e^{-x-1}(x - 2)  \n",
        "$$  \n",
        "\n",
        "---\n",
        "\n",
        "### Verificação das condições de convergência:  \n",
        "1. **$f'(x) \\neq 0$:**  \n",
        "   - $f'(x) = 0 \\Rightarrow e^{-x-1}(1 - x) = 0 \\Rightarrow x = 1$ (pois $e^{-x-1} \\neq 0$).  \n",
        "   - A raiz desejada está próxima de $x \\approx 0.406$, **fora do ponto crítico** $x = 1$.  \n",
        "\n",
        "2. **$f''(x)$ existe e é contínua:**  \n",
        "   - $f''(x) = e^{-x-1}(x - 2)$ é contínua em $\\mathbb{R}$, pois envolve funções exponenciais e polinomiais contínuas.  \n",
        "\n",
        "---"
      ],
      "metadata": {
        "id": "HOweQGK5U6GD"
      }
    },
    {
      "cell_type": "code",
      "source": [
        "# Implemente aqui o algoritmo do método de Newton usando a sua função,\n",
        "# tomando uma condição inicial no intervalo (a,b) inicial, use a média do intervalo, e a precisão considera.\n",
        "# Obtenha sempre o número de iterações necessárias à convergência a fim de comparação entre os métodos.\n",
        "import numpy as np\n",
        "\n",
        "\n",
        "# primeira derivada\n",
        "def f_linha(x):\n",
        "    return (1 - x) * np.exp(-x - 1)\n",
        "\n",
        "x0 = (a0+b0)/2 #ponto inicial do método condição\n",
        "x_k = x0\n",
        "\n",
        "it_max_newton = 100 #máximo de iterações\n",
        "\n",
        "for k in range(1, it_max_newton+1):\n",
        "  print(x_k)\n",
        "  x_k = x_k - f(x_k)/f_linha(x_k)\n",
        "\n",
        "  #criterio de parada\n",
        "  if abs(f(x_k))< e:\n",
        "    break\n",
        "\n",
        "print(\"A solução encontrada foi: \", x_k) #imprime a raiz\n",
        "print(\"O número de iterações foi: \",k) #imprime iterações"
      ],
      "metadata": {
        "id": "9d-au9qaVMQ4",
        "colab": {
          "base_uri": "https://localhost:8080/"
        },
        "outputId": "2138c647-d18f-48a0-bf54-d0bb4524e61c"
      },
      "execution_count": null,
      "outputs": [
        {
          "output_type": "stream",
          "name": "stdout",
          "text": [
            "0.25\n",
            "0.3800638492011871\n",
            "0.40548392044600173\n",
            "A solução encontrada foi:  0.40637467390600285\n",
            "O número de iterações foi:  3\n"
          ]
        }
      ]
    },
    {
      "cell_type": "markdown",
      "source": [],
      "metadata": {
        "id": "WAauzD1xXScL"
      }
    },
    {
      "cell_type": "markdown",
      "source": [
        "# Método da Secante  \n",
        "\n",
        "O método da secante é uma discretização do método de Newton que substitui a derivada $f'(x_k)$ por uma aproximação via diferenças finitas:  \n",
        "$$\n",
        "f'(x_k) \\approx \\dfrac{f(x_k) - f(x_{k-1})}{x_k - x_{k-1}}\n",
        "$$  \n",
        "\n",
        "Desta forma, as iterações são calculadas por:  \n",
        "$$\n",
        "x_{k+1} = \\dfrac{x_{k-1} \\cdot f(x_k) - x_k \\cdot f(x_{k-1})}{f(x_k) - f(x_{k-1})}\n",
        "$$  \n",
        "\n",
        "---\n",
        "\n",
        "### Condições para convergência:  \n",
        "1. **$f(x)$ é contínua e suave** (pelo menos duas vezes diferenciável) em $(a,b)$.  \n",
        "2. **As aproximações iniciais $x_0$ e $x_1$** devem estar próximas da raiz desejada.  \n",
        "\n",
        "---"
      ],
      "metadata": {
        "id": "85Ab1C2wWgMo"
      }
    },
    {
      "cell_type": "code",
      "source": [
        "# Implemente aqui o algoritmo do método da secante usando a sua função,\n",
        "# tomando duas condições iniciais no intervalo (a,b) inicial, e a precisão considera.\n",
        "# Obtenha sempre o número de iterações necessárias à convergência a fim de comparação entre os métodos.\n",
        "\n",
        "#condições iniciais\n",
        "x0 = 0\n",
        "x1 = 0.3\n",
        "x2 = (x0 +x1)/2\n",
        "\n",
        "x_k = x0\n",
        "\n",
        "it_max_secante = 100 #máximo de iterações\n",
        "\n",
        "for k in range(1, it_max_secante+1):\n",
        "  print(x2)\n",
        "  x2 = (x0 * f(x1) - x1 * f(x0)) / (f(x1) - f(x0))\n",
        "  x0 = x1\n",
        "  x1 = x2\n",
        "\n",
        "\n",
        "  #criterio de parada\n",
        "  if abs(f(x2))< e:\n",
        "    break\n",
        "\n",
        "print(\"A solução encontrada foi: \", x2) #imprime a raiz\n",
        "print(\"O número de iterações foi: \",k) #imprime iterações"
      ],
      "metadata": {
        "id": "c537NcuqYIz5",
        "colab": {
          "base_uri": "https://localhost:8080/"
        },
        "outputId": "059f0f19-6660-45d3-dd29-a18e063e0113"
      },
      "execution_count": null,
      "outputs": [
        {
          "output_type": "stream",
          "name": "stdout",
          "text": [
            "0.15\n",
            "0.36536704810546927\n",
            "0.4011375263569089\n",
            "A solução encontrada foi:  0.4060977153664015\n",
            "O número de iterações foi:  3\n"
          ]
        }
      ]
    },
    {
      "cell_type": "markdown",
      "source": [
        "# Resultados e Discussões  \n",
        "\n",
        "Dentre os resultados obtidos, verificou-se que o método **de Newton** e o **método da secante** apresentaram melhor eficiência com base no número de iterações, como pode ser visto na tabela a seguir:  \n",
        "\n",
        "<table>\n",
        "  <thead>\n",
        "    <tr>\n",
        "      <th>Método</th>\n",
        "      <th>Raiz</th>\n",
        "      <th>Número de Iterações</th>\n",
        "    </tr>\n",
        "  </thead>\n",
        "  <tbody>\n",
        "    <tr>\n",
        "      <td>Bissecção</td>\n",
        "      <td>0.40645751953125</td>\n",
        "      <td>13</td>\n",
        "    </tr>\n",
        "    <tr>\n",
        "      <td>Ponto Falso</td>\n",
        "      <td>0.4069712090211097</td>\n",
        "      <td>8</td>\n",
        "    </tr>\n",
        "    <tr>\n",
        "      <td>Ponto Fixo</td>\n",
        "      <td>0.4061233356568871</td>\n",
        "      <td>7</td>\n",
        "    </tr>\n",
        "    <tr>\n",
        "      <td>Método de Newton</td>\n",
        "      <td>0.40637467390600285</td>\n",
        "      <td>3</td>\n",
        "    </tr>\n",
        "    <tr>\n",
        "      <td>Método da Secante</td>\n",
        "      <td>0.4060977153664015</td>\n",
        "      <td>3</td>\n",
        "    </tr>\n",
        "  </tbody>\n",
        "</table>\n",
        "\n",
        "---\n",
        "\n",
        "### Análise dos Resultados:  \n",
        "\n",
        "1. **Método do Ponto Fixo:**  \n",
        "   - **Apresentou convergência** para a função de iteração $\\phi_1(x) = 2e^{x-2}$, pois a raiz $x \\approx 0.406$ está dentro do intervalo de convergência $(-\\infty, 1.3069)$.  \n",
        "   - **Dificuldades:**  \n",
        "     - A escolha da função de iteração $\\phi(x)$ é crítica. A segunda tentativa, $\\phi_2(x) = 2 + \\ln(x/2)$, não convergiria para a raiz desejada, pois seu intervalo de convergência é $(1, +\\infty)$.  \n",
        "     - Garantir que $|\\phi'(x)| < 1$ na vizinhança da raiz exigiu análise prévia das derivadas.  \n",
        "\n",
        "2. **Método de Newton:**  \n",
        "   - **Convergência mais rápida** (3 iterações), conforme esperado devido à sua ordem quadrática.  \n",
        "   - **Dificuldades:**  \n",
        "     - Requer o cálculo de $f'(x)$, que se anula em $x = 1$. Se a raiz estivesse próxima desse ponto, o método falharia.  \n",
        "     - A escolha de $x_0$ muito distante da raiz poderia levar a divergência, mas isso não ocorreu com $x_0 = (a+b)/2$.  \n",
        "\n",
        "3. **Método da Secante:**  \n",
        "   - **Eficiência comparável ao de Newton** (3 iterações), mas sem exigir derivadas analíticas.  \n",
        "   - **Dificuldades:**  \n",
        "     - Risco de divisão por zero se $f(x_k) \\approx f(x_{k-1})$.  \n",
        "     - Sensibilidade à escolha das condições iniciais $x_0$ e $x_1$.  \n",
        "\n",
        "4. **Método da Bissecção:**  \n",
        "   - **Convergência lenta** (13 iterações), típica de métodos de ordem linear.  \n",
        "   - **Vantagem:** Robustez garantida, independente da escolha do intervalo inicial $[a, b]$.  \n",
        "\n",
        "5. **Método do Ponto Falso:**  \n",
        "   - **Desempenho intermediário** (8 iterações), melhor que a bissecção, mas inferior aos métodos de ordem superior.  \n",
        "\n",
        "---\n",
        "\n",
        "### Conclusões Gerais:  \n",
        "- **Métodos de ordem superior (Newton e Secante)** foram os mais eficientes, como previsto teoricamente.  \n",
        "- **Método do Ponto Fixo** mostrou-se viável, mas dependente da escolha criteriosa de $\\phi(x)$ e também da função $f(x)$.  \n",
        "- **Dificuldades analíticas** destacaram-se na garantia das condições de convergência.    \n",
        "\n",
        "**Observação final:** A escolha do método varia de função pra função, assim como o intervalo escolhido para encontra a raíz que deve ser bem próximo, mais para esse meu $f(x)$ os métodos mais eficientes foram o de Newton e o da Secante contendo uma pequena variação na quarta casa decimal depois da vírgula."
      ],
      "metadata": {
        "id": "1h3HhzAou81K"
      }
    }
  ]
}